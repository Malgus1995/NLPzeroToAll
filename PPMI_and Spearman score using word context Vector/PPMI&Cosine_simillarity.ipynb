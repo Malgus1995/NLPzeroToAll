{
 "cells": [
  {
   "cell_type": "code",
   "execution_count": 1,
   "id": "b477cbe6-58ee-48e8-bb8d-2580034a81b0",
   "metadata": {},
   "outputs": [],
   "source": [
    "import os\n",
    "import sklearn\n",
    "import numpy as np\n",
    "import pandas as pd\n",
    "from tqdm import tqdm\n",
    "from scipy import stats\n",
    "from numpy import inf\n",
    "import matplotlib.pyplot as plt"
   ]
  },
  {
   "cell_type": "code",
   "execution_count": 2,
   "id": "ee568982-58f4-48f7-a422-43dd1db8d06e",
   "metadata": {},
   "outputs": [],
   "source": [
    "ai517_assn1_base_path = './ai517_assn1'\n",
    "\n",
    "\n",
    "ai517_assn1_file_list = os.listdir('./ai517_assn1')\n",
    "\n",
    "men_path = os.path.join(ai517_assn1_base_path,ai517_assn1_file_list[0])\n",
    "simlex_path = os.path.join(ai517_assn1_base_path,ai517_assn1_file_list[1])\n",
    "vocab_25k_path = os.path.join(ai517_assn1_base_path,ai517_assn1_file_list[3])\n",
    "vocab_wordsim_path = os.path.join(ai517_assn1_base_path,ai517_assn1_file_list[5])\n",
    "wiki_01percent_path = os.path.join(ai517_assn1_base_path,ai517_assn1_file_list[-2])"
   ]
  },
  {
   "cell_type": "code",
   "execution_count": 3,
   "id": "8836843f-7350-4952-a4a5-5c3649947e59",
   "metadata": {},
   "outputs": [],
   "source": [
    "wordsim_path = os.path.join(ai517_assn1_base_path,ai517_assn1_file_list[0])"
   ]
  },
  {
   "cell_type": "code",
   "execution_count": 4,
   "id": "67ca7453-ed80-4a5f-a384-d4ee4e374328",
   "metadata": {},
   "outputs": [
    {
     "data": {
      "text/plain": [
       "['men.txt',\n",
       " 'simlex-999.txt',\n",
       " 'vocab-25k+wordsim.txt',\n",
       " 'vocab-25k.txt',\n",
       " 'vocab-3k.txt',\n",
       " 'vocab-wordsim.txt',\n",
       " 'wiki-0.1percent.txt',\n",
       " 'wiki-1percent.txt',\n",
       " '__MACOSX']"
      ]
     },
     "execution_count": 4,
     "metadata": {},
     "output_type": "execute_result"
    }
   ],
   "source": [
    "ai517_assn1_file_list"
   ]
  },
  {
   "cell_type": "markdown",
   "id": "6b930dca-45ff-4135-b933-1250597e596c",
   "metadata": {},
   "source": [
    "## 1.1 Distributional Counting (20 points)"
   ]
  },
  {
   "cell_type": "code",
   "execution_count": 5,
   "id": "bde31ac1-7533-4285-b07d-13319b4ef04a",
   "metadata": {},
   "outputs": [],
   "source": [
    "vocab_25k = open(vocab_25k_path, encoding='UTF8')\n",
    "vocab_wordsim =open(vocab_wordsim_path)\n",
    "wiki_01percent_list = open(wiki_01percent_path, encoding='UTF8')\n",
    "\n",
    "wiki_01percent_list = [word.split('\\n')[0].strip() for word in list(wiki_01percent_list.readlines())]\n",
    "vocab_word_sim_list = [word.split('\\n')[0].strip() for word in list(vocab_wordsim.readlines())]\n",
    "vocab_25k_words_list = [word.split('\\n')[0].strip() for word in list(vocab_25k.readlines())]\n",
    "\n",
    "vocab_words_index_dict = {}\n",
    "vocab_25k_words_index_dict = {}\n",
    "\n",
    "for i,word in enumerate(vocab_word_sim_list):\n",
    "    vocab_words_index_dict[word]=i\n",
    "for i,word in enumerate(vocab_25k_words_list):\n",
    "    vocab_25k_words_index_dict[word]=i"
   ]
  },
  {
   "cell_type": "code",
   "execution_count": 6,
   "id": "52c1cc8f-835b-4f4e-97e3-def97de57a4c",
   "metadata": {},
   "outputs": [],
   "source": [
    "def context_matrix(w):\n",
    "    word_context_matrix = np.zeros((len(vocab_word_sim_list),len(vocab_25k_words_list)))\n",
    "    for sentence in tqdm(wiki_01percent_list):\n",
    "        word_list = ['<s>']+sentence.split(' ')+['</s>']\n",
    "        for i,word in enumerate(word_list):\n",
    "            word = word.strip()\n",
    "            if word in vocab_word_sim_list:\n",
    "                for j in range(max(i-w,0),min(i+w,len(word_list))):\n",
    "                    if word_list[j] in vocab_25k_words_list:\n",
    "                        word_context_matrix[vocab_words_index_dict[word],vocab_25k_words_index_dict[word_list[j]]]+=1\n",
    "\n",
    "    return word_context_matrix\n",
    "        \n"
   ]
  },
  {
   "cell_type": "code",
   "execution_count": 7,
   "id": "fbd1f849-ada6-41cd-986d-c6d0c8e6e74f",
   "metadata": {},
   "outputs": [
    {
     "name": "stderr",
     "output_type": "stream",
     "text": [
      "100%|██████████| 997898/997898 [06:32<00:00, 2539.24it/s]\n"
     ]
    }
   ],
   "source": [
    "wc =context_matrix(3)"
   ]
  },
  {
   "cell_type": "code",
   "execution_count": 8,
   "id": "8810e7bf-647e-46e5-b50d-57d80410e229",
   "metadata": {},
   "outputs": [
    {
     "data": {
      "text/plain": [
       "array([[ 75.,  95., 323., ...,   0.,   0.,   0.],\n",
       "       [  7.,  22.,  56., ...,   0.,   0.,   0.],\n",
       "       [101.,  65., 762., ...,   0.,   0.,   0.],\n",
       "       ...,\n",
       "       [ 10.,   7.,  26., ...,   0.,   0.,   0.],\n",
       "       [ 99., 153., 629., ...,   0.,   0.,   0.],\n",
       "       [ 47.,  40., 181., ...,   0.,   0.,   0.]])"
      ]
     },
     "execution_count": 8,
     "metadata": {},
     "output_type": "execute_result"
    }
   ],
   "source": [
    "wc"
   ]
  },
  {
   "cell_type": "code",
   "execution_count": 9,
   "id": "066f9f99-859f-44fc-bc6e-7e54de342f3a",
   "metadata": {},
   "outputs": [],
   "source": [
    "simlex999_df = pd.read_csv(simlex_path,sep = \"\\t\" )\n",
    "men_df = pd.read_csv(men_path,sep = \"\\t\" )"
   ]
  },
  {
   "cell_type": "code",
   "execution_count": 10,
   "id": "fafcc33b-b509-4042-9270-7bf94f68c730",
   "metadata": {},
   "outputs": [],
   "source": [
    "men_index_score = []\n",
    "word_1_index_list = [vocab_words_index_dict[word] for word in list(men_df['word1'])]\n",
    "men_index_score.append(word_1_index_list)\n",
    "word_2_index_list = [vocab_words_index_dict[word] for word in list(men_df['word2'])]\n",
    "men_index_score.append(word_2_index_list)\n",
    "men_index_score.append(list(men_df['score']))\n",
    "\n",
    "simplex_index_score = []\n",
    "word_1_index_list = [vocab_words_index_dict[word] for word in list(simlex999_df['word1'])]\n",
    "simplex_index_score.append(word_1_index_list)\n",
    "word_2_index_list = [vocab_words_index_dict[word] for word in list(simlex999_df['word2'])]\n",
    "simplex_index_score.append(word_2_index_list)\n",
    "simplex_index_score.append(list(simlex999_df['simlex999']))"
   ]
  },
  {
   "cell_type": "code",
   "execution_count": 11,
   "id": "5914fec2-8808-4cfd-9fa7-ad0bdfe4dc11",
   "metadata": {},
   "outputs": [],
   "source": [
    "def cosine_similarity(score_index_list,wc=wc):\n",
    "    cos_sim_res = []\n",
    "    word_1_list = np.asarray(score_index_list[0])\n",
    "    word_2_list = np.asarray(score_index_list[1])\n",
    "    for i in range(0,len(word_1_list)):\n",
    "        word1= wc[word_1_list[i]]\n",
    "        word2 = wc[word_2_list[i]]\n",
    "        \n",
    "        dot_prod = np.inner(word1,word2)\n",
    "        norm = np.linalg.norm(word1)*np.linalg.norm(word2)\n",
    "        if norm ==0:\n",
    "            cos_sim_res.append(0)\n",
    "        else:\n",
    "            cos_sim_res.append(dot_prod/norm)\n",
    "    \n",
    "    return cos_sim_res\n",
    "    "
   ]
  },
  {
   "cell_type": "code",
   "execution_count": 12,
   "id": "a9b987c3-ab8c-4f41-88da-c1f5c53eaff9",
   "metadata": {},
   "outputs": [],
   "source": [
    "men_result = cosine_similarity(men_index_score,wc)\n",
    "simplex_result = cosine_similarity(simplex_index_score,wc)"
   ]
  },
  {
   "cell_type": "markdown",
   "id": "cdc9667d-a64e-46ab-8665-6300e5b1eda2",
   "metadata": {},
   "source": [
    "To measure, consine similarity,\n",
    "$$\\frac{u^Tv}{||u|| ||v||}$$\n",
    "First have to calulate dot product between $u$ and $v$,\n",
    "$$u^Tv = \\sum_{i}{u_iv_i}$$.\n",
    "Now we have to calculate each norm in $u$ and $v$.\n",
    "$$||u|| = \\sqrt{\\sum{u_i^2}}$$\n",
    "$$||v|| = \\sqrt{\\sum{v_i^2}}$$\n",
    "\n",
    "In this case, $u$ is word1 column in men.txt file and $v$ is word2 column in men.txt\n",
    "Each rows means consist of words to compare similarity"
   ]
  },
  {
   "cell_type": "markdown",
   "id": "dae314ef-2237-477c-be10-ee493a15af05",
   "metadata": {},
   "source": [
    "Here are results of cosine similarity. we can see to close 22% correlation value as 20.8%."
   ]
  },
  {
   "cell_type": "code",
   "execution_count": 13,
   "id": "dd4a7f40-4c5c-4b69-aada-e65c7ffec25a",
   "metadata": {},
   "outputs": [
    {
     "data": {
      "text/plain": [
       "SpearmanrResult(correlation=0.20820333877448238, pvalue=9.809684451459659e-31)"
      ]
     },
     "execution_count": 13,
     "metadata": {},
     "output_type": "execute_result"
    }
   ],
   "source": [
    "stats.spearmanr(men_result,men_index_score[2])"
   ]
  },
  {
   "cell_type": "code",
   "execution_count": 14,
   "id": "6cc79f96-8690-466a-a8f1-20a2a9414ba8",
   "metadata": {},
   "outputs": [
    {
     "data": {
      "text/plain": [
       "SpearmanrResult(correlation=0.09903643187567658, pvalue=0.0017242367116980877)"
      ]
     },
     "execution_count": 14,
     "metadata": {},
     "output_type": "execute_result"
    }
   ],
   "source": [
    "stats.spearmanr(simplex_result,simplex_index_score[2])"
   ]
  },
  {
   "cell_type": "markdown",
   "id": "2405c5b8-f594-4722-9e4e-dbf57103b58a",
   "metadata": {},
   "source": [
    "## Computing PMIs (10 points)"
   ]
  },
  {
   "cell_type": "code",
   "execution_count": 15,
   "id": "4ddae224-7e55-4721-b89b-e7f5565a44fe",
   "metadata": {},
   "outputs": [],
   "source": [
    "def pmi(wc):\n",
    "    pmi_matrix = np.zeros(wc.shape)\n",
    "    col_totals = wc.sum(axis=0)\n",
    "    total  =wc.sum(axis=0).sum()\n",
    "    row_totals =wc.sum(axis=1)\n",
    "    expected = np.outer(row_totals, col_totals) / total\n",
    "    \n",
    "    pmi_matrix = np.nan_to_num(wc / expected)\n",
    "    pmi_matrix = np.log2(pmi_matrix)\n",
    "    pmi_matrix[pmi_matrix == -inf] = 0\n",
    "    return (pmi_matrix+np.abs(pmi_matrix))/2"
   ]
  },
  {
   "cell_type": "markdown",
   "id": "1646ae93-e488-4890-8193-8b6d14ae40f9",
   "metadata": {},
   "source": [
    "pointwise mutual information's formula is\n",
    "$$pmi(x,y) =  log_2 \\frac{p(x,y)}{p(x)p(y)}$$\n",
    "\n",
    "To represent probability, we use word context matrix before we calculated. Word context matrix measure when row word is detected, column frequency of word in fixed window size. So we can represent probability by dividing total summation of word context matrix. Preventing calculating error we replace nan to 0 using np.nan_to_num function. After we apply log function and replace -inf to 0. To get Positive Point mutual  information, replace -value to 0. "
   ]
  },
  {
   "cell_type": "code",
   "execution_count": 16,
   "id": "fb38524c-9245-4a9a-8039-d971a8bdfd91",
   "metadata": {},
   "outputs": [
    {
     "name": "stderr",
     "output_type": "stream",
     "text": [
      "<ipython-input-15-ca650b49b193>:8: RuntimeWarning: invalid value encountered in true_divide\n",
      "  pmi_matrix = np.nan_to_num(wc / expected)\n",
      "<ipython-input-15-ca650b49b193>:9: RuntimeWarning: divide by zero encountered in log2\n",
      "  pmi_matrix = np.log2(pmi_matrix)\n"
     ]
    }
   ],
   "source": [
    "c_pmi = pmi(wc)"
   ]
  },
  {
   "cell_type": "code",
   "execution_count": 17,
   "id": "3f0816d4-2caf-4272-89c5-64d1d4c4eb6b",
   "metadata": {},
   "outputs": [],
   "source": [
    "men_result = cosine_similarity(men_index_score,c_pmi)\n",
    "simplex_result = cosine_similarity(simplex_index_score,c_pmi)"
   ]
  },
  {
   "cell_type": "markdown",
   "id": "42ece90f-1542-4fb9-a32c-3c582fe37e68",
   "metadata": {},
   "source": [
    "We can see improved result correlation values."
   ]
  },
  {
   "cell_type": "code",
   "execution_count": 18,
   "id": "8dd5e4d7-647a-4095-841d-e2393055d19e",
   "metadata": {},
   "outputs": [
    {
     "data": {
      "text/plain": [
       "SpearmanrResult(correlation=0.5377823646816318, pvalue=1.559072394052421e-224)"
      ]
     },
     "execution_count": 18,
     "metadata": {},
     "output_type": "execute_result"
    }
   ],
   "source": [
    "stats.spearmanr(men_result,men_index_score[2])"
   ]
  },
  {
   "cell_type": "code",
   "execution_count": 19,
   "id": "af5a6711-db11-4687-97f6-ecd1996fc17f",
   "metadata": {},
   "outputs": [
    {
     "data": {
      "text/plain": [
       "SpearmanrResult(correlation=0.23667620706495082, pvalue=3.47731035304304e-14)"
      ]
     },
     "execution_count": 19,
     "metadata": {},
     "output_type": "execute_result"
    }
   ],
   "source": [
    "stats.spearmanr(simplex_result,simplex_index_score[2])"
   ]
  },
  {
   "cell_type": "markdown",
   "id": "e883ec8a-3567-4a9d-9bb1-63573abc05b2",
   "metadata": {},
   "source": [
    "##  Experimentation (5 points)"
   ]
  },
  {
   "cell_type": "code",
   "execution_count": 20,
   "id": "dbed6a5c-77ba-4b66-bba2-a8373635a3ad",
   "metadata": {},
   "outputs": [],
   "source": [
    "w_1 =1\n",
    "w_3 =3\n",
    "w_6 =6"
   ]
  },
  {
   "cell_type": "code",
   "execution_count": 21,
   "id": "3b68d587-4989-461f-abe1-000af3c949c1",
   "metadata": {},
   "outputs": [
    {
     "name": "stderr",
     "output_type": "stream",
     "text": [
      "100%|██████████| 997898/997898 [04:33<00:00, 3646.03it/s]\n",
      "<ipython-input-15-ca650b49b193>:8: RuntimeWarning: invalid value encountered in true_divide\n",
      "  pmi_matrix = np.nan_to_num(wc / expected)\n",
      "<ipython-input-15-ca650b49b193>:9: RuntimeWarning: divide by zero encountered in log2\n",
      "  pmi_matrix = np.log2(pmi_matrix)\n",
      "100%|██████████| 997898/997898 [06:29<00:00, 2560.38it/s]\n",
      "100%|██████████| 997898/997898 [09:19<00:00, 1782.36it/s]\n"
     ]
    }
   ],
   "source": [
    "w_1_C = context_matrix(w_1)\n",
    "w_1_C_pmi = pmi(w_1_C)\n",
    "w_3_C = context_matrix(w_3)\n",
    "w_3_C_pmi = pmi(w_3_C)\n",
    "w_6_C = context_matrix(w_6)\n",
    "w_6_C_pmi = pmi(w_6_C)"
   ]
  },
  {
   "cell_type": "code",
   "execution_count": 22,
   "id": "098bbf9d-44ca-41bd-af4b-fc274ff9a158",
   "metadata": {},
   "outputs": [],
   "source": [
    "w_1men_result = cosine_similarity(men_index_score,w_1_C)\n",
    "w_1simplex_result = cosine_similarity(simplex_index_score,w_1_C)\n",
    "w_1pmi_men_result = cosine_similarity(men_index_score,w_1_C_pmi)\n",
    "w_1pmi_simplex_result = cosine_similarity(simplex_index_score,w_1_C_pmi)"
   ]
  },
  {
   "cell_type": "code",
   "execution_count": 23,
   "id": "17902f1b-9239-44ba-8dc4-133fc16a4acb",
   "metadata": {},
   "outputs": [
    {
     "name": "stdout",
     "output_type": "stream",
     "text": [
      "w1 word context men spearman :  SpearmanrResult(correlation=0.12293212069871598, pvalue=1.4175295638434407e-11)\n",
      "w1 word context simplex spearman :  SpearmanrResult(correlation=0.04712986861809134, pvalue=0.13659426390516577)\n",
      "w1 pmi word context men spearman :  SpearmanrResult(correlation=0.4439109892960475, pvalue=4.3453146136887976e-145)\n",
      "w1 pmi word context simplex spearman :  SpearmanrResult(correlation=0.23452325465185517, pvalue=5.99261076726805e-14)\n"
     ]
    }
   ],
   "source": [
    "print(\"w1 word context men spearman : \",stats.spearmanr(w_1men_result,men_index_score[2]))\n",
    "print(\"w1 word context simplex spearman : \",stats.spearmanr(w_1simplex_result,simplex_index_score[2]))\n",
    "\n",
    "print(\"w1 pmi word context men spearman : \",stats.spearmanr(w_1pmi_men_result,men_index_score[2]))\n",
    "print(\"w1 pmi word context simplex spearman : \",stats.spearmanr(w_1pmi_simplex_result,simplex_index_score[2]))"
   ]
  },
  {
   "cell_type": "code",
   "execution_count": 24,
   "id": "f4321765-762f-4280-8e74-887bb7e8a94a",
   "metadata": {},
   "outputs": [],
   "source": [
    "w_3men_result = cosine_similarity(men_index_score,w_3_C)\n",
    "w_3simplex_result = cosine_similarity(simplex_index_score,w_3_C)\n",
    "w_3pmi_men_result = cosine_similarity(men_index_score,w_3_C_pmi)\n",
    "w_3pmi_simplex_result = cosine_similarity(simplex_index_score,w_3_C_pmi)"
   ]
  },
  {
   "cell_type": "code",
   "execution_count": 60,
   "id": "fe7a9e60-13ba-43f0-9ce2-727e82fb733d",
   "metadata": {},
   "outputs": [
    {
     "name": "stdout",
     "output_type": "stream",
     "text": [
      "w3 word context men spearman :  SpearmanrResult(correlation=0.20820333877448238, pvalue=9.809684451459659e-31)\n",
      "w3 word context simplex spearman :  SpearmanrResult(correlation=0.09903643187567658, pvalue=0.0017242367116980877)\n",
      "w3 pmi word context men spearman :  SpearmanrResult(correlation=0.5377823646816318, pvalue=1.559072394052421e-224)\n",
      "w3 pmi word context simplex spearman :  SpearmanrResult(correlation=0.23667620706495082, pvalue=3.47731035304304e-14)\n"
     ]
    }
   ],
   "source": [
    "print(\"w3 word context men spearman : \",stats.spearmanr(w_3men_result,men_index_score[2]))\n",
    "print(\"w3 word context simplex spearman : \",stats.spearmanr(w_3simplex_result,simplex_index_score[2]))\n",
    "print(\"w3 pmi word context men spearman : \",stats.spearmanr(w_3pmi_men_result,men_index_score[2]))\n",
    "print(\"w3 pmi word context simplex spearman : \",stats.spearmanr(w_3pmi_simplex_result,simplex_index_score[2]))"
   ]
  },
  {
   "cell_type": "code",
   "execution_count": 26,
   "id": "c22d133f-4276-45b0-abd1-7928424e648d",
   "metadata": {},
   "outputs": [],
   "source": [
    "w_6men_result = cosine_similarity(men_index_score,w_6_C)\n",
    "w_6simplex_result = cosine_similarity(simplex_index_score,w_6_C)\n",
    "w_6pmi_men_result = cosine_similarity(men_index_score,w_6_C_pmi)\n",
    "w_6pmi_simplex_result = cosine_similarity(simplex_index_score,w_6_C_pmi)"
   ]
  },
  {
   "cell_type": "code",
   "execution_count": 27,
   "id": "c033daa5-bf0d-465b-8bbe-d31aa6cc9379",
   "metadata": {},
   "outputs": [
    {
     "name": "stdout",
     "output_type": "stream",
     "text": [
      "w6 word context men spearman :  SpearmanrResult(correlation=0.27774002424144634, pvalue=2.864642513740823e-54)\n",
      "w6 word context simplex spearman :  SpearmanrResult(correlation=0.09520122480250133, pvalue=0.002594490106883811)\n",
      "w6 pmi word context men spearman :  SpearmanrResult(correlation=0.5321975387032889, pvalue=4.441877569169441e-219)\n",
      "w6 pmi word context simplex spearman :  SpearmanrResult(correlation=0.1697210205069143, pvalue=6.782142903503612e-08)\n"
     ]
    }
   ],
   "source": [
    "print(\"w6 word context men spearman : \",stats.spearmanr(w_6men_result,men_index_score[2]))\n",
    "print(\"w6 word context simplex spearman : \",stats.spearmanr(w_6simplex_result,simplex_index_score[2]))\n",
    "print(\"w6 pmi word context men spearman : \",stats.spearmanr(w_6pmi_men_result,men_index_score[2]))\n",
    "print(\"w6 pmi word context simplex spearman : \",stats.spearmanr(w_6pmi_simplex_result,simplex_index_score[2]))"
   ]
  },
  {
   "cell_type": "markdown",
   "id": "3ec9c074-fd8a-46a1-9279-1027c19e7ae6",
   "metadata": {},
   "source": [
    "As we can see correlation about word men, c_i and pmi show increasing trends. Setting large window size can cover more large words. But in window size 6, pmi score of men is lower than window 3. This trend also can be found at simplex-999. To get high correlation spearman score, we should find proper window size not too small and not too large. "
   ]
  },
  {
   "cell_type": "markdown",
   "id": "d4481ea9-d012-43d4-97a7-92a907387fb0",
   "metadata": {},
   "source": [
    "## 1.4.1 Warm-up: Printing nearest neighbors (3 points)"
   ]
  },
  {
   "cell_type": "code",
   "execution_count": 28,
   "id": "12a03d1a-8156-446e-8f04-effcc2a28717",
   "metadata": {},
   "outputs": [],
   "source": [
    "def context_matrix_v2(w):\n",
    "    word_context_matrix = np.zeros((len(vocab_25k_words_list),len(vocab_25k_words_list)))\n",
    "    for sentence in tqdm(wiki_01percent_list):\n",
    "        word_list = ['<s>']+sentence.split(' ')+['</s>']\n",
    "        for i,word in enumerate(word_list):\n",
    "            word = word.strip()\n",
    "            if word in vocab_25k_words_list:\n",
    "                for j in range(max(i-w,0),min(i+w,len(word_list))):\n",
    "                    if word_list[j] in vocab_25k_words_list:\n",
    "                        word_context_matrix[vocab_25k_words_index_dict[word],vocab_25k_words_index_dict[word_list[j]]]+=1\n",
    "    return word_context_matrix\n",
    "        \n"
   ]
  },
  {
   "cell_type": "code",
   "execution_count": 29,
   "id": "26c30a51-c029-4950-8053-5f47737c1767",
   "metadata": {},
   "outputs": [
    {
     "name": "stderr",
     "output_type": "stream",
     "text": [
      "100%|██████████| 997898/997898 [17:45<00:00, 936.45it/s] \n",
      "100%|██████████| 997898/997898 [1:15:53<00:00, 219.16it/s]\n"
     ]
    }
   ],
   "source": [
    "wc_w1_v2 = context_matrix_v2(1)\n",
    "wc_w6_v2 = context_matrix_v2(6)"
   ]
  },
  {
   "cell_type": "code",
   "execution_count": 30,
   "id": "25d295c0-b75c-4939-982f-489f1bb22aa5",
   "metadata": {},
   "outputs": [
    {
     "name": "stderr",
     "output_type": "stream",
     "text": [
      "<ipython-input-15-ca650b49b193>:8: RuntimeWarning: invalid value encountered in true_divide\n",
      "  pmi_matrix = np.nan_to_num(wc / expected)\n",
      "<ipython-input-15-ca650b49b193>:9: RuntimeWarning: divide by zero encountered in log2\n",
      "  pmi_matrix = np.log2(pmi_matrix)\n"
     ]
    }
   ],
   "source": [
    "pmi_w1_v2 =pmi(wc_w1_v2)\n",
    "pmi_w6_v2 =pmi(wc_w6_v2)"
   ]
  },
  {
   "cell_type": "code",
   "execution_count": null,
   "id": "db0f6c23-9d93-477f-9528-df5bc012d0e7",
   "metadata": {},
   "outputs": [],
   "source": []
  },
  {
   "cell_type": "code",
   "execution_count": 57,
   "id": "a04b864f-c983-4572-9a98-8114311c4277",
   "metadata": {},
   "outputs": [],
   "source": [
    "def print_10_nearest_neighbors(pmi,word):\n",
    "    pmi_index_list = list(pmi[vocab_25k_words_index_dict[word]])\n",
    "    pmi_index_list.sort(reverse=True)\n",
    "    \n",
    "    for i in range(1,11):\n",
    "        index = list(pmi[vocab_25k_words_index_dict[word]]).index(pmi_index_list[i])\n",
    "        print(vocab_25k_words_list[index])"
   ]
  },
  {
   "cell_type": "code",
   "execution_count": 58,
   "id": "dae9e568-dcd8-4360-bb6a-8489344c7291",
   "metadata": {},
   "outputs": [
    {
     "name": "stdout",
     "output_type": "stream",
     "text": [
      "w=1 \n",
      "ness\n",
      "cookie\n",
      "spaghetti\n",
      "delicious\n",
      "duel\n",
      "commonplace\n",
      "humanoid\n",
      "closet\n",
      "mister\n",
      "mighty\n"
     ]
    }
   ],
   "source": [
    "print(\"w=1 \")\n",
    "print_10_nearest_neighbors(pmi_w1_v2,'monster')"
   ]
  },
  {
   "cell_type": "code",
   "execution_count": 59,
   "id": "83558ae1-29c9-4a02-92c7-0c7fff0e965c",
   "metadata": {},
   "outputs": [
    {
     "name": "stdout",
     "output_type": "stream",
     "text": [
      "w=6 \n",
      "frankenstein\n",
      "ness\n",
      "bonuses\n",
      "cookie\n",
      "clown\n",
      "loch\n",
      "slaughtered\n",
      "rune\n",
      "psycho\n",
      "gaga\n"
     ]
    }
   ],
   "source": [
    "print(\"w=6 \")\n",
    "print_10_nearest_neighbors(pmi_w6_v2,'monster')"
   ]
  },
  {
   "cell_type": "markdown",
   "id": "880f2037-f62d-4344-92d7-0fca5d1ab8ae",
   "metadata": {},
   "source": [
    "## 1.4.2 Part-of-speech tag similarity in nearest neighbors (7 points)"
   ]
  },
  {
   "cell_type": "code",
   "execution_count": 83,
   "id": "560e4bda-ae38-4b6a-be66-35dd182d6e78",
   "metadata": {},
   "outputs": [
    {
     "name": "stdout",
     "output_type": "stream",
     "text": [
      "query word ness \n",
      "loch\n",
      "headland\n",
      "yates\n",
      "kris\n",
      "eliot\n",
      "caledonian\n",
      "polk\n",
      "33rd\n",
      "monster\n",
      "vanessa\n"
     ]
    }
   ],
   "source": [
    "print(\"query word ness \")\n",
    "print_10_nearest_neighbors(pmi_w6_v2,'ness')"
   ]
  },
  {
   "cell_type": "code",
   "execution_count": 82,
   "id": "0f870faa-f113-4396-95fa-8230bb186a43",
   "metadata": {},
   "outputs": [
    {
     "name": "stdout",
     "output_type": "stream",
     "text": [
      "query word frankenstein\n",
      "metallica\n",
      "gorgeous\n",
      "mummy\n",
      "dracula\n",
      "helpless\n",
      "octopus\n",
      "shelley\n",
      "monster\n",
      "fay\n",
      "weighs\n"
     ]
    }
   ],
   "source": [
    "print(\"query word frankenstein\")\n",
    "print_10_nearest_neighbors(pmi_w6_v2,'frankenstein')"
   ]
  },
  {
   "cell_type": "markdown",
   "id": "48e2fa3f-f124-4d04-8b4d-ce43f7ee8258",
   "metadata": {},
   "source": [
    "In window size 6, we can see frankenstein and ness nearest list contain 'monster'. both of them are in monster's nearest neighbors."
   ]
  },
  {
   "cell_type": "code",
   "execution_count": 84,
   "id": "a91439f8-7d23-42f6-b135-eb246c34db41",
   "metadata": {},
   "outputs": [
    {
     "name": "stdout",
     "output_type": "stream",
     "text": [
      "query word ness \n",
      "loch\n",
      "eliot\n",
      "fife\n",
      "marilyn\n",
      "jennifer\n",
      "van\n",
      "mike\n",
      "frederick\n",
      "fair\n",
      "makes\n"
     ]
    }
   ],
   "source": [
    "print(\"query word ness \")\n",
    "print_10_nearest_neighbors(pmi_w1_v2,'ness')"
   ]
  },
  {
   "cell_type": "code",
   "execution_count": 85,
   "id": "0f7750b3-47fe-4e14-b4e1-7bc3736a9348",
   "metadata": {},
   "outputs": [
    {
     "name": "stdout",
     "output_type": "stream",
     "text": [
      "query word cookie \n",
      "chip\n",
      "butter\n",
      "http\n",
      "authentication\n",
      "sandwich\n",
      "fortune\n",
      "chocolate\n",
      "well-known\n",
      "helps\n",
      "howard\n"
     ]
    }
   ],
   "source": [
    "print(\"query word cookie \")\n",
    "print_10_nearest_neighbors(pmi_w1_v2,'cookie')"
   ]
  },
  {
   "cell_type": "markdown",
   "id": "3a17aa97-b6f8-449c-83ef-c29cbcda1894",
   "metadata": {},
   "source": [
    "In win dow size 1, as monster's nearest neighbors, cookie and ness show their nearest neighbors list. They didn't contain monster. This means window size can affect consisting nearest neighbors."
   ]
  },
  {
   "cell_type": "markdown",
   "id": "9feb590a-83d2-4958-884e-27c0a858f945",
   "metadata": {},
   "source": [
    "## 1.4.3 Words with multiple senses (5 points"
   ]
  },
  {
   "cell_type": "code",
   "execution_count": 87,
   "id": "8b2ee0c8-8327-40c0-bda6-d2aa4c6d3f65",
   "metadata": {},
   "outputs": [
    {
     "name": "stdout",
     "output_type": "stream",
     "text": [
      "__________________________________________\n",
      "\n",
      "Key words is  bank\n",
      "w1 : \n",
      "savings\n",
      "habib\n",
      "sulphur\n",
      "fargo\n",
      "macquarie\n",
      "deutsche\n",
      "pci\n",
      "co-operative\n",
      "grassy\n",
      "planters\n",
      "__________________________________________\n",
      "\n",
      "w6 : \n",
      "robber\n",
      "anglo\n",
      "imf\n",
      "savings\n",
      "habib\n",
      "robbery\n",
      "lending\n",
      "sava\n",
      "fargo\n",
      "planters\n",
      "__________________________________________\n",
      "\n",
      "Key words is  blue\n",
      "w1 : \n",
      "nypd\n",
      "winnipeg\n",
      "greenish\n",
      "caspian\n",
      "cobalt\n",
      "zebra\n",
      "translucent\n",
      "columbus\n",
      "pale\n",
      "brighter\n",
      "__________________________________________\n",
      "\n",
      "w6 : \n",
      "jays\n",
      "jackets\n",
      "nypd\n",
      "ribbon\n",
      "heron\n",
      "shirts\n",
      "pigments\n",
      "shirt\n",
      "stripe\n",
      "indigo\n",
      "__________________________________________\n",
      "\n",
      "Key words is  apple\n",
      "w1 : \n",
      "cemented\n",
      "poisoned\n",
      "crab\n",
      "domesticated\n",
      "dessert\n",
      "fiona\n",
      "ipad\n",
      "4000\n",
      "jamaican\n",
      "benefited\n",
      "__________________________________________\n",
      "\n",
      "w6 : \n",
      "macintosh\n",
      "ipod\n",
      "pineapple\n",
      "pear\n",
      "strawberry\n",
      "orchards\n",
      "pie\n",
      "s1\n",
      "ipad\n",
      "iphone\n",
      "__________________________________________\n",
      "\n",
      "Key words is  love\n",
      "w1 : \n",
      "unconditional\n",
      "courtney\n",
      "passionate\n",
      "angelina\n",
      "denoting\n",
      "dude\n",
      "obsessive\n",
      "careless\n",
      "latex\n",
      "gotta\n",
      "__________________________________________\n",
      "\n",
      "w6 : \n",
      "lust\n",
      "hurts\n",
      "confesses\n",
      "falls\n",
      "dangerously\n",
      "unconditional\n",
      "fallen\n",
      "triangle\n",
      "amor\n",
      "courtney\n",
      "__________________________________________\n",
      "\n",
      "Key words is  water\n",
      "w1 : \n",
      "bottled\n",
      "drinking\n",
      "boiling\n",
      "fresh\n",
      "shallow\n",
      "saline\n",
      "derwent\n",
      "tap\n",
      "flowing\n",
      "icy\n",
      "__________________________________________\n",
      "\n",
      "w6 : \n",
      "sanitation\n",
      "polo\n",
      "bottled\n",
      "vapor\n",
      "soluble\n",
      "saline\n",
      "boiling\n",
      "sewer\n",
      "drinking\n",
      "polluted\n",
      "__________________________________________\n",
      "\n",
      "Key words is  flame\n",
      "w1 : \n",
      "tubular\n",
      "stylized\n",
      "eternal\n",
      "elongated\n",
      "consuming\n",
      "immortal\n",
      "indirect\n",
      "burning\n",
      "naked\n",
      "smoking\n",
      "__________________________________________\n",
      "\n",
      "w6 : \n",
      "extinguished\n",
      "fiercely\n",
      "ignited\n",
      "cavern\n",
      "torch\n",
      "melted\n",
      "foam\n",
      "thrower\n",
      "afloat\n",
      "lamps\n",
      "__________________________________________\n",
      "\n",
      "Key words is  light\n",
      "w1 : \n",
      "ultraviolet\n",
      "uv\n",
      "guiding\n",
      "polarized\n",
      "flashing\n",
      "dim\n",
      "90th\n",
      "emit\n",
      "maratha\n",
      "absorbs\n",
      "__________________________________________\n",
      "\n",
      "w6 : \n",
      "uv\n",
      "bulb\n",
      "ultraviolet\n",
      "bulbs\n",
      "wavelengths\n",
      "emitted\n",
      "absorbs\n",
      "shines\n",
      "dragoons\n",
      "glowing\n",
      "__________________________________________\n",
      "\n",
      "Key words is  well\n",
      "w1 : \n",
      "exceedingly\n",
      "fared\n",
      "reasonably\n",
      "exceptionally\n",
      "as\n",
      "tackled\n",
      "remarkably\n",
      "pretty\n",
      "damn\n",
      "bottoms\n",
      "__________________________________________\n",
      "\n",
      "w6 : \n",
      "verifiability\n",
      "submission\n",
      "suited\n",
      "fared\n",
      "drilled\n",
      "visuals\n",
      "sourced\n",
      "exceedingly\n",
      "jars\n",
      "as\n"
     ]
    }
   ],
   "source": [
    "words_list = ['bank', 'blue', 'apple', 'love', 'water', 'flame', 'light', 'well']\n",
    "for word in words_list:\n",
    "    print('__________________________________________\\n')\n",
    "    print('Key words is ',word)\n",
    "    print(\"w1 : \")\n",
    "    print_10_nearest_neighbors(pmi_w1_v2,word)\n",
    "    print('__________________________________________\\n')\n",
    "    print(\"w6 : \")\n",
    "    print_10_nearest_neighbors(pmi_w6_v2,word)"
   ]
  },
  {
   "cell_type": "markdown",
   "id": "6d9a64a6-06a2-4cd7-9672-5fb337390c2b",
   "metadata": {},
   "source": [
    "We try following word list bank, blue, apple, love, water, flame, light, well. In window size 6, it can find the reasonable nearest neighbors at query words. One interest thing is in fruit key words apple, we can find ipad as nearest neighbor. In window size 6, iphone is also founded. This means frequently used words can be grouped regardless of their properties. On the other hand, among words, each nearest neighbor is grouped based on use of frequence."
   ]
  },
  {
   "cell_type": "code",
   "execution_count": null,
   "id": "1a058012-278f-4b21-ae0e-6f52fbdf6560",
   "metadata": {},
   "outputs": [],
   "source": []
  }
 ],
 "metadata": {
  "kernelspec": {
   "display_name": "Python 3",
   "language": "python",
   "name": "python3"
  },
  "language_info": {
   "codemirror_mode": {
    "name": "ipython",
    "version": 3
   },
   "file_extension": ".py",
   "mimetype": "text/x-python",
   "name": "python",
   "nbconvert_exporter": "python",
   "pygments_lexer": "ipython3",
   "version": "3.8.8"
  }
 },
 "nbformat": 4,
 "nbformat_minor": 5
}
